{
 "cells": [
  {
   "cell_type": "code",
   "execution_count": 127,
   "metadata": {},
   "outputs": [],
   "source": [
    "#Importing basic libraries\n",
    "\n",
    "import pandas as pd\n",
    "import numpy as np\n",
    "import random as rd\n",
    "import matplotlib.pyplot as plt"
   ]
  },
  {
   "cell_type": "markdown",
   "metadata": {},
   "source": [
    "First I cleaned the given data set. I have filled the missing values in column 6 of the data set by the mean of values in column 6. I have also dropped duplicate rows which have same ID numbers"
   ]
  },
  {
   "cell_type": "code",
   "execution_count": 128,
   "metadata": {},
   "outputs": [],
   "source": [
    "df = pd.read_csv(\"CANCER.csv\", header = None)        #Reading cleaned dataset"
   ]
  },
  {
   "cell_type": "code",
   "execution_count": 129,
   "metadata": {
    "scrolled": true
   },
   "outputs": [
    {
     "data": {
      "text/html": [
       "<div>\n",
       "<style scoped>\n",
       "    .dataframe tbody tr th:only-of-type {\n",
       "        vertical-align: middle;\n",
       "    }\n",
       "\n",
       "    .dataframe tbody tr th {\n",
       "        vertical-align: top;\n",
       "    }\n",
       "\n",
       "    .dataframe thead th {\n",
       "        text-align: right;\n",
       "    }\n",
       "</style>\n",
       "<table border=\"1\" class=\"dataframe\">\n",
       "  <thead>\n",
       "    <tr style=\"text-align: right;\">\n",
       "      <th></th>\n",
       "      <th>0</th>\n",
       "      <th>1</th>\n",
       "      <th>2</th>\n",
       "      <th>3</th>\n",
       "      <th>4</th>\n",
       "      <th>5</th>\n",
       "      <th>6</th>\n",
       "      <th>7</th>\n",
       "      <th>8</th>\n",
       "      <th>9</th>\n",
       "      <th>10</th>\n",
       "    </tr>\n",
       "  </thead>\n",
       "  <tbody>\n",
       "    <tr>\n",
       "      <td>0</td>\n",
       "      <td>61634</td>\n",
       "      <td>5</td>\n",
       "      <td>4</td>\n",
       "      <td>3</td>\n",
       "      <td>1</td>\n",
       "      <td>2</td>\n",
       "      <td>3.545</td>\n",
       "      <td>2</td>\n",
       "      <td>3</td>\n",
       "      <td>1</td>\n",
       "      <td>2</td>\n",
       "    </tr>\n",
       "    <tr>\n",
       "      <td>1</td>\n",
       "      <td>63375</td>\n",
       "      <td>9</td>\n",
       "      <td>1</td>\n",
       "      <td>2</td>\n",
       "      <td>6</td>\n",
       "      <td>4</td>\n",
       "      <td>10.000</td>\n",
       "      <td>7</td>\n",
       "      <td>7</td>\n",
       "      <td>2</td>\n",
       "      <td>4</td>\n",
       "    </tr>\n",
       "    <tr>\n",
       "      <td>2</td>\n",
       "      <td>76389</td>\n",
       "      <td>10</td>\n",
       "      <td>4</td>\n",
       "      <td>7</td>\n",
       "      <td>2</td>\n",
       "      <td>2</td>\n",
       "      <td>8.000</td>\n",
       "      <td>6</td>\n",
       "      <td>1</td>\n",
       "      <td>1</td>\n",
       "      <td>4</td>\n",
       "    </tr>\n",
       "    <tr>\n",
       "      <td>3</td>\n",
       "      <td>95719</td>\n",
       "      <td>6</td>\n",
       "      <td>10</td>\n",
       "      <td>10</td>\n",
       "      <td>10</td>\n",
       "      <td>8</td>\n",
       "      <td>10.000</td>\n",
       "      <td>7</td>\n",
       "      <td>10</td>\n",
       "      <td>7</td>\n",
       "      <td>4</td>\n",
       "    </tr>\n",
       "    <tr>\n",
       "      <td>4</td>\n",
       "      <td>128059</td>\n",
       "      <td>1</td>\n",
       "      <td>1</td>\n",
       "      <td>1</td>\n",
       "      <td>1</td>\n",
       "      <td>2</td>\n",
       "      <td>5.000</td>\n",
       "      <td>5</td>\n",
       "      <td>1</td>\n",
       "      <td>1</td>\n",
       "      <td>2</td>\n",
       "    </tr>\n",
       "    <tr>\n",
       "      <td>...</td>\n",
       "      <td>...</td>\n",
       "      <td>...</td>\n",
       "      <td>...</td>\n",
       "      <td>...</td>\n",
       "      <td>...</td>\n",
       "      <td>...</td>\n",
       "      <td>...</td>\n",
       "      <td>...</td>\n",
       "      <td>...</td>\n",
       "      <td>...</td>\n",
       "      <td>...</td>\n",
       "    </tr>\n",
       "    <tr>\n",
       "      <td>640</td>\n",
       "      <td>1369821</td>\n",
       "      <td>10</td>\n",
       "      <td>10</td>\n",
       "      <td>10</td>\n",
       "      <td>10</td>\n",
       "      <td>5</td>\n",
       "      <td>10.000</td>\n",
       "      <td>10</td>\n",
       "      <td>10</td>\n",
       "      <td>7</td>\n",
       "      <td>4</td>\n",
       "    </tr>\n",
       "    <tr>\n",
       "      <td>641</td>\n",
       "      <td>1371026</td>\n",
       "      <td>5</td>\n",
       "      <td>10</td>\n",
       "      <td>10</td>\n",
       "      <td>10</td>\n",
       "      <td>4</td>\n",
       "      <td>10.000</td>\n",
       "      <td>5</td>\n",
       "      <td>6</td>\n",
       "      <td>3</td>\n",
       "      <td>4</td>\n",
       "    </tr>\n",
       "    <tr>\n",
       "      <td>642</td>\n",
       "      <td>1371920</td>\n",
       "      <td>5</td>\n",
       "      <td>1</td>\n",
       "      <td>1</td>\n",
       "      <td>1</td>\n",
       "      <td>2</td>\n",
       "      <td>1.000</td>\n",
       "      <td>3</td>\n",
       "      <td>2</td>\n",
       "      <td>1</td>\n",
       "      <td>2</td>\n",
       "    </tr>\n",
       "    <tr>\n",
       "      <td>643</td>\n",
       "      <td>8233704</td>\n",
       "      <td>4</td>\n",
       "      <td>1</td>\n",
       "      <td>1</td>\n",
       "      <td>1</td>\n",
       "      <td>1</td>\n",
       "      <td>1.000</td>\n",
       "      <td>2</td>\n",
       "      <td>1</td>\n",
       "      <td>1</td>\n",
       "      <td>2</td>\n",
       "    </tr>\n",
       "    <tr>\n",
       "      <td>644</td>\n",
       "      <td>13454352</td>\n",
       "      <td>1</td>\n",
       "      <td>1</td>\n",
       "      <td>3</td>\n",
       "      <td>1</td>\n",
       "      <td>2</td>\n",
       "      <td>1.000</td>\n",
       "      <td>2</td>\n",
       "      <td>1</td>\n",
       "      <td>1</td>\n",
       "      <td>2</td>\n",
       "    </tr>\n",
       "  </tbody>\n",
       "</table>\n",
       "<p>645 rows × 11 columns</p>\n",
       "</div>"
      ],
      "text/plain": [
       "           0   1   2   3   4   5       6   7   8   9   10\n",
       "0       61634   5   4   3   1   2   3.545   2   3   1   2\n",
       "1       63375   9   1   2   6   4  10.000   7   7   2   4\n",
       "2       76389  10   4   7   2   2   8.000   6   1   1   4\n",
       "3       95719   6  10  10  10   8  10.000   7  10   7   4\n",
       "4      128059   1   1   1   1   2   5.000   5   1   1   2\n",
       "..        ...  ..  ..  ..  ..  ..     ...  ..  ..  ..  ..\n",
       "640   1369821  10  10  10  10   5  10.000  10  10   7   4\n",
       "641   1371026   5  10  10  10   4  10.000   5   6   3   4\n",
       "642   1371920   5   1   1   1   2   1.000   3   2   1   2\n",
       "643   8233704   4   1   1   1   1   1.000   2   1   1   2\n",
       "644  13454352   1   1   3   1   2   1.000   2   1   1   2\n",
       "\n",
       "[645 rows x 11 columns]"
      ]
     },
     "execution_count": 129,
     "metadata": {},
     "output_type": "execute_result"
    }
   ],
   "source": [
    "df            #This is how our cleaned data set looks like. here last column (10th) is the Class"
   ]
  },
  {
   "cell_type": "code",
   "execution_count": 130,
   "metadata": {},
   "outputs": [],
   "source": [
    "X = df.iloc[:,:10]      # X is the dataset excluding 10th column i.e class column"
   ]
  },
  {
   "cell_type": "code",
   "execution_count": 180,
   "metadata": {},
   "outputs": [],
   "source": [
    "K=2        #  Number of clusters"
   ]
  },
  {
   "cell_type": "code",
   "execution_count": 181,
   "metadata": {},
   "outputs": [],
   "source": [
    "# Here I have created a dictionary named centroids which has key as cluster number and value as a list of 9 features (1 to 9)\n",
    "# Which represent centroid of that cluster\n",
    "# value of every feature is between 1 to 10. Therefore for now I have created centroids with 9 random coordinates each having\n",
    "# values b/w 1 and 10\n",
    "centroids = {i+1:[rd.randint(1,10), rd.randint(1,10), rd.randint(1,10), rd.randint(1,10), rd.randint(1,10), rd.randint(1,10), rd.randint(1,10), rd.randint(1,10), rd.randint(1,10)]\n",
    "            for i in range(K)}"
   ]
  },
  {
   "cell_type": "code",
   "execution_count": 182,
   "metadata": {
    "scrolled": true
   },
   "outputs": [
    {
     "data": {
      "text/plain": [
       "{1: [7, 8, 8, 4, 7, 1, 4, 1, 2], 2: [2, 5, 1, 8, 7, 7, 2, 8, 6]}"
      ]
     },
     "execution_count": 182,
     "metadata": {},
     "output_type": "execute_result"
    }
   ],
   "source": [
    "centroids     #These are initial random centroids for clusters"
   ]
  },
  {
   "cell_type": "markdown",
   "metadata": {},
   "source": [
    "                            Below is the Main core logic of K means clustering.\n",
    "\n",
    "1). First I computed the distance for each data point in dataset with centroid of each cluster using square of euclid distance and I stored this Information in a dictionary named d in which key is the Id number of data point and value is a list in which 1st number is the distance of centroid 1 from the data point of that particular id and 2nd number is the distance of 2nd centroid from the data point of that particular id and so on.\n",
    "\n",
    "2). Then I Created a dictionary named Clusters in which key is the cluster number and value is the list of Id numbers of all data points belong to that cluster. I have created this using d dictionary\n",
    "\n",
    "3). Then I stored the centroids in a variable named centroids_old. After that I calculated new centroids by taking mean of features of all data points that belong to same centroid\n",
    "\n",
    "4). Then I checked what is maximum difference between corresponding new and old centroid if it is less than 0.001 then our algorithm has converged\n",
    "\n",
    "5). The above 4 steps repeats until algorithm converges by condition of step 4"
   ]
  },
  {
   "cell_type": "code",
   "execution_count": 183,
   "metadata": {},
   "outputs": [],
   "source": [
    "while True:\n",
    "    from collections import defaultdict\n",
    "    d = defaultdict(list)\n",
    "\n",
    "    for i in range(0,X.shape[0]):\n",
    "        for centroid in centroids:\n",
    "            ans = ((centroids[centroid] - X.iloc[i][1:10])**2).sum()\n",
    "            d[X.iloc[i][0]].append(ans)\n",
    "\n",
    "    clusters = {i+1:[]\n",
    "                for i in range(K)}\n",
    "\n",
    "    for key,value in d.items():\n",
    "        clusters[value.index(min(value))+1].append(key)\n",
    "\n",
    "    centroids_old = centroids\n",
    "    centroids = {i+1:[0, 0, 0, 0, 0, 0, 0, 0, 0]\n",
    "                for i in range(K)}\n",
    "\n",
    "    for i in clusters:\n",
    "        for j in  clusters[i]:\n",
    "             centroids[i]+= (X[X[0]==j].values[0,1:10])/len(clusters[i])\n",
    "    \n",
    "    Max = float(\"-inf\")\n",
    "    for i in centroids:\n",
    "        temp = (((np.array(centroids[i])-np.array(centroids_old[i]))**2).sum())**0.5\n",
    "        if(temp>Max):\n",
    "            Max=temp\n",
    "    if(Max<0.001):\n",
    "        break"
   ]
  },
  {
   "cell_type": "code",
   "execution_count": null,
   "metadata": {
    "scrolled": true
   },
   "outputs": [],
   "source": [
    "clusters #Clusters for K=2 It is a dictionary with key as cluster number and value as list of Id numbers belong to that cluster"
   ]
  },
  {
   "cell_type": "markdown",
   "metadata": {},
   "source": [
    "     Below is the Elbow Method Analysis. centroidsKi, clustersKi means centroids and clusters when number of clusters K=i.\n",
    "     I have computed Within-Cluster-Sum-of-Squares (WCSS) for different values of K and Drawn a graph between WCSS and K"
   ]
  },
  {
   "cell_type": "code",
   "execution_count": 142,
   "metadata": {},
   "outputs": [],
   "source": [
    "centroidsK1 = centroids       #When K=1"
   ]
  },
  {
   "cell_type": "code",
   "execution_count": 143,
   "metadata": {},
   "outputs": [],
   "source": [
    "clustersK1 = clusters         #When K=1"
   ]
  },
  {
   "cell_type": "code",
   "execution_count": 136,
   "metadata": {},
   "outputs": [],
   "source": [
    "centroidsK2 = centroids       #When K=2"
   ]
  },
  {
   "cell_type": "code",
   "execution_count": 137,
   "metadata": {},
   "outputs": [],
   "source": [
    "clustersK2 = clusters         #When K=2"
   ]
  },
  {
   "cell_type": "code",
   "execution_count": 148,
   "metadata": {},
   "outputs": [],
   "source": [
    "centroidsK3 = centroids       #When K=3"
   ]
  },
  {
   "cell_type": "code",
   "execution_count": 149,
   "metadata": {},
   "outputs": [],
   "source": [
    "clustersK3 = clusters         #When K=3"
   ]
  },
  {
   "cell_type": "code",
   "execution_count": 154,
   "metadata": {},
   "outputs": [],
   "source": [
    "centroidsK4 = centroids       #When K=4"
   ]
  },
  {
   "cell_type": "code",
   "execution_count": 155,
   "metadata": {},
   "outputs": [],
   "source": [
    "clustersK4 = clusters         #When K=4"
   ]
  },
  {
   "cell_type": "code",
   "execution_count": 160,
   "metadata": {},
   "outputs": [],
   "source": [
    "centroidsK5 = centroids       #When K=5"
   ]
  },
  {
   "cell_type": "code",
   "execution_count": 161,
   "metadata": {},
   "outputs": [],
   "source": [
    "clustersK5 = clusters         #When K=5"
   ]
  },
  {
   "cell_type": "code",
   "execution_count": 166,
   "metadata": {},
   "outputs": [],
   "source": [
    "centroidsK6 = centroids       #When K=6"
   ]
  },
  {
   "cell_type": "code",
   "execution_count": 167,
   "metadata": {},
   "outputs": [],
   "source": [
    "clustersK6 = clusters         #When K=6"
   ]
  },
  {
   "cell_type": "code",
   "execution_count": 172,
   "metadata": {},
   "outputs": [],
   "source": [
    "centroidsK7 = centroids       #When K=7"
   ]
  },
  {
   "cell_type": "code",
   "execution_count": 173,
   "metadata": {},
   "outputs": [],
   "source": [
    "clustersK7 = clusters         #When K=7"
   ]
  },
  {
   "cell_type": "code",
   "execution_count": 178,
   "metadata": {},
   "outputs": [],
   "source": [
    "centroidsK8 = centroids       #When K=8"
   ]
  },
  {
   "cell_type": "code",
   "execution_count": 179,
   "metadata": {},
   "outputs": [],
   "source": [
    "clustersK8 = clusters         #When K=8"
   ]
  },
  {
   "cell_type": "code",
   "execution_count": 185,
   "metadata": {},
   "outputs": [],
   "source": [
    "#Function to compute WCSS\n",
    "def WCSS (centroids, clusters):\n",
    "    Fsum=0\n",
    "    for centroid in centroids:\n",
    "        for j in clusters[centroid]:\n",
    "            Fsum+=((X[X[0]==j].values[0,1:10] - centroids[centroid])**2).sum()\n",
    "    return Fsum"
   ]
  },
  {
   "cell_type": "code",
   "execution_count": 186,
   "metadata": {},
   "outputs": [],
   "source": [
    "ls= [0]*9   #List to store WCSS of k=i at ith index"
   ]
  },
  {
   "cell_type": "code",
   "execution_count": 187,
   "metadata": {},
   "outputs": [],
   "source": [
    "ls[1] = WCSS(centroidsK1, clustersK1)\n",
    "ls[2] = WCSS(centroidsK2, clustersK2)\n",
    "ls[3] = WCSS(centroidsK3, clustersK3)\n",
    "ls[4] = WCSS(centroidsK4, clustersK4)\n",
    "ls[5] = WCSS(centroidsK5, clustersK5)\n",
    "ls[6] = WCSS(centroidsK6, clustersK6)\n",
    "ls[7] = WCSS(centroidsK7, clustersK7)\n",
    "ls[8] = WCSS(centroidsK8, clustersK8)"
   ]
  },
  {
   "cell_type": "code",
   "execution_count": 188,
   "metadata": {},
   "outputs": [],
   "source": [
    "x=[1,2,3,4,5,6,7,8]"
   ]
  },
  {
   "cell_type": "code",
   "execution_count": 189,
   "metadata": {
    "scrolled": false
   },
   "outputs": [
    {
     "data": {
      "image/png": "[encoded data removed]",
      "text/plain": [
       "<Figure size 432x288 with 1 Axes>"
      ]
     },
     "metadata": {
      "needs_background": "light"
     },
     "output_type": "display_data"
    }
   ],
   "source": [
    "plt.plot(x,ls[1:])\n",
    "plt.xlabel(\"no. of clusters K\")\n",
    "plt.ylabel(\"Within-Cluster-Sum-of-Squares (WCSS)\")\n",
    "plt.show()"
   ]
  },
  {
   "cell_type": "markdown",
   "metadata": {},
   "source": [
    "From Above Graph it can be easily observed that K=2 is the optimum value for K means clustering"
   ]
  },
  {
   "cell_type": "markdown",
   "metadata": {},
   "source": [
    "                                      Below is the Silhouette Analysis for K=2"
   ]
  },
  {
   "cell_type": "code",
   "execution_count": 14,
   "metadata": {},
   "outputs": [],
   "source": [
    "sili=[]     #It is a list to store silhouette index for all individual data points in data set "
   ]
  },
  {
   "cell_type": "code",
   "execution_count": 15,
   "metadata": {},
   "outputs": [],
   "source": [
    "for id1 in clusters[1]:\n",
    "    ai=0\n",
    "    bi=0\n",
    "    for id2 in clusters[1]:\n",
    "        ai+=((((X[X[0]==id2].values[0,1:10] - X[X[0]==id1].values[0,1:10])**2).sum())**0.5)/(len(clusters[1])-1)\n",
    "    for id3 in clusters[2]:\n",
    "        bi+=((((X[X[0]==id3].values[0,1:10] - X[X[0]==id1].values[0,1:10])**2).sum())**0.5)/len(clusters[2])\n",
    "    sili.append(((bi-ai)/max(ai,bi)))\n",
    "    \n",
    "for id1 in clusters[2]:\n",
    "    ai=0\n",
    "    bi=0\n",
    "    for id2 in clusters[2]:\n",
    "        ai+=((((X[X[0]==id2].values[0,1:10] - X[X[0]==id1].values[0,1:10])**2).sum())**0.5)/(len(clusters[2])-1)\n",
    "    for id3 in clusters[1]:\n",
    "        bi+=((((X[X[0]==id3].values[0,1:10] - X[X[0]==id1].values[0,1:10])**2).sum())**0.5)/len(clusters[1])\n",
    "    sili.append(((bi-ai)/max(ai,bi)))"
   ]
  },
  {
   "cell_type": "code",
   "execution_count": 22,
   "metadata": {
    "scrolled": false
   },
   "outputs": [
    {
     "name": "stdout",
     "output_type": "stream",
     "text": [
      "0.5864223530744774\n"
     ]
    }
   ],
   "source": [
    "silhouette_score = sum(sili)/len(sili)  # It is Silhouette score for whole dataset\n",
    "print(silhouette_score)"
   ]
  },
  {
   "cell_type": "markdown",
   "metadata": {},
   "source": [
    "So silhouette score for all points in dataset is 0.5864223530744778"
   ]
  },
  {
   "cell_type": "markdown",
   "metadata": {},
   "source": [
    "    As Labeled Data is given to us as data set I can calculate precision, recall and F1 score for clustering when K=2"
   ]
  },
  {
   "cell_type": "markdown",
   "metadata": {},
   "source": [
    "                       Below are the calculations for precision, recall and F1 Score"
   ]
  },
  {
   "cell_type": "code",
   "execution_count": 48,
   "metadata": {
    "scrolled": false
   },
   "outputs": [],
   "source": [
    "Y=df[[0,10]]\n",
    "Y.columns = ['id number', 'True value']\n",
    "Y.set_index('id number', inplace=True)"
   ]
  },
  {
   "cell_type": "code",
   "execution_count": 98,
   "metadata": {},
   "outputs": [
    {
     "data": {
      "text/html": [
       "<div>\n",
       "<style scoped>\n",
       "    .dataframe tbody tr th:only-of-type {\n",
       "        vertical-align: middle;\n",
       "    }\n",
       "\n",
       "    .dataframe tbody tr th {\n",
       "        vertical-align: top;\n",
       "    }\n",
       "\n",
       "    .dataframe thead th {\n",
       "        text-align: right;\n",
       "    }\n",
       "</style>\n",
       "<table border=\"1\" class=\"dataframe\">\n",
       "  <thead>\n",
       "    <tr style=\"text-align: right;\">\n",
       "      <th></th>\n",
       "      <th>True value</th>\n",
       "    </tr>\n",
       "    <tr>\n",
       "      <th>id number</th>\n",
       "      <th></th>\n",
       "    </tr>\n",
       "  </thead>\n",
       "  <tbody>\n",
       "    <tr>\n",
       "      <td>61634</td>\n",
       "      <td>2</td>\n",
       "    </tr>\n",
       "    <tr>\n",
       "      <td>63375</td>\n",
       "      <td>4</td>\n",
       "    </tr>\n",
       "    <tr>\n",
       "      <td>76389</td>\n",
       "      <td>4</td>\n",
       "    </tr>\n",
       "    <tr>\n",
       "      <td>95719</td>\n",
       "      <td>4</td>\n",
       "    </tr>\n",
       "    <tr>\n",
       "      <td>128059</td>\n",
       "      <td>2</td>\n",
       "    </tr>\n",
       "    <tr>\n",
       "      <td>...</td>\n",
       "      <td>...</td>\n",
       "    </tr>\n",
       "    <tr>\n",
       "      <td>1369821</td>\n",
       "      <td>4</td>\n",
       "    </tr>\n",
       "    <tr>\n",
       "      <td>1371026</td>\n",
       "      <td>4</td>\n",
       "    </tr>\n",
       "    <tr>\n",
       "      <td>1371920</td>\n",
       "      <td>2</td>\n",
       "    </tr>\n",
       "    <tr>\n",
       "      <td>8233704</td>\n",
       "      <td>2</td>\n",
       "    </tr>\n",
       "    <tr>\n",
       "      <td>13454352</td>\n",
       "      <td>2</td>\n",
       "    </tr>\n",
       "  </tbody>\n",
       "</table>\n",
       "<p>645 rows × 1 columns</p>\n",
       "</div>"
      ],
      "text/plain": [
       "           True value\n",
       "id number            \n",
       "61634               2\n",
       "63375               4\n",
       "76389               4\n",
       "95719               4\n",
       "128059              2\n",
       "...               ...\n",
       "1369821             4\n",
       "1371026             4\n",
       "1371920             2\n",
       "8233704             2\n",
       "13454352            2\n",
       "\n",
       "[645 rows x 1 columns]"
      ]
     },
     "execution_count": 98,
     "metadata": {},
     "output_type": "execute_result"
    }
   ],
   "source": [
    "Y         #Given Data Y has only 2 columns id number and true value"
   ]
  },
  {
   "cell_type": "code",
   "execution_count": 31,
   "metadata": {},
   "outputs": [],
   "source": [
    "clusters_rev = {}"
   ]
  },
  {
   "cell_type": "code",
   "execution_count": 32,
   "metadata": {},
   "outputs": [],
   "source": [
    "for v in clusters[2]:\n",
    "    clusters_rev[v] = 2\n",
    "for v in clusters[1]:\n",
    "    clusters_rev[v] = 4"
   ]
  },
  {
   "cell_type": "code",
   "execution_count": 54,
   "metadata": {
    "scrolled": true
   },
   "outputs": [],
   "source": [
    "result = pd.DataFrame(list(clusters_rev.items()))\n",
    "result.columns = ['id number', 'predicted value']\n",
    "result.set_index('id number', inplace=True)"
   ]
  },
  {
   "cell_type": "code",
   "execution_count": 70,
   "metadata": {},
   "outputs": [
    {
     "data": {
      "text/html": [
       "<div>\n",
       "<style scoped>\n",
       "    .dataframe tbody tr th:only-of-type {\n",
       "        vertical-align: middle;\n",
       "    }\n",
       "\n",
       "    .dataframe tbody tr th {\n",
       "        vertical-align: top;\n",
       "    }\n",
       "\n",
       "    .dataframe thead th {\n",
       "        text-align: right;\n",
       "    }\n",
       "</style>\n",
       "<table border=\"1\" class=\"dataframe\">\n",
       "  <thead>\n",
       "    <tr style=\"text-align: right;\">\n",
       "      <th></th>\n",
       "      <th>predicted value</th>\n",
       "    </tr>\n",
       "    <tr>\n",
       "      <th>id number</th>\n",
       "      <th></th>\n",
       "    </tr>\n",
       "  </thead>\n",
       "  <tbody>\n",
       "    <tr>\n",
       "      <td>61634.0</td>\n",
       "      <td>2</td>\n",
       "    </tr>\n",
       "    <tr>\n",
       "      <td>128059.0</td>\n",
       "      <td>2</td>\n",
       "    </tr>\n",
       "    <tr>\n",
       "      <td>167528.0</td>\n",
       "      <td>2</td>\n",
       "    </tr>\n",
       "    <tr>\n",
       "      <td>169356.0</td>\n",
       "      <td>2</td>\n",
       "    </tr>\n",
       "    <tr>\n",
       "      <td>183913.0</td>\n",
       "      <td>2</td>\n",
       "    </tr>\n",
       "    <tr>\n",
       "      <td>...</td>\n",
       "      <td>...</td>\n",
       "    </tr>\n",
       "    <tr>\n",
       "      <td>1350423.0</td>\n",
       "      <td>4</td>\n",
       "    </tr>\n",
       "    <tr>\n",
       "      <td>1352663.0</td>\n",
       "      <td>4</td>\n",
       "    </tr>\n",
       "    <tr>\n",
       "      <td>1352848.0</td>\n",
       "      <td>4</td>\n",
       "    </tr>\n",
       "    <tr>\n",
       "      <td>1369821.0</td>\n",
       "      <td>4</td>\n",
       "    </tr>\n",
       "    <tr>\n",
       "      <td>1371026.0</td>\n",
       "      <td>4</td>\n",
       "    </tr>\n",
       "  </tbody>\n",
       "</table>\n",
       "<p>645 rows × 1 columns</p>\n",
       "</div>"
      ],
      "text/plain": [
       "           predicted value\n",
       "id number                 \n",
       "61634.0                  2\n",
       "128059.0                 2\n",
       "167528.0                 2\n",
       "169356.0                 2\n",
       "183913.0                 2\n",
       "...                    ...\n",
       "1350423.0                4\n",
       "1352663.0                4\n",
       "1352848.0                4\n",
       "1369821.0                4\n",
       "1371026.0                4\n",
       "\n",
       "[645 rows x 1 columns]"
      ]
     },
     "execution_count": 70,
     "metadata": {},
     "output_type": "execute_result"
    }
   ],
   "source": [
    "result                      #Result data from K means clustering when K=2"
   ]
  },
  {
   "cell_type": "code",
   "execution_count": 68,
   "metadata": {},
   "outputs": [],
   "source": [
    "final = pd.merge(Y, result,how='inner', on='id number')"
   ]
  },
  {
   "cell_type": "code",
   "execution_count": 99,
   "metadata": {},
   "outputs": [
    {
     "data": {
      "text/html": [
       "<div>\n",
       "<style scoped>\n",
       "    .dataframe tbody tr th:only-of-type {\n",
       "        vertical-align: middle;\n",
       "    }\n",
       "\n",
       "    .dataframe tbody tr th {\n",
       "        vertical-align: top;\n",
       "    }\n",
       "\n",
       "    .dataframe thead th {\n",
       "        text-align: right;\n",
       "    }\n",
       "</style>\n",
       "<table border=\"1\" class=\"dataframe\">\n",
       "  <thead>\n",
       "    <tr style=\"text-align: right;\">\n",
       "      <th></th>\n",
       "      <th>True value</th>\n",
       "      <th>predicted value</th>\n",
       "    </tr>\n",
       "    <tr>\n",
       "      <th>id number</th>\n",
       "      <th></th>\n",
       "      <th></th>\n",
       "    </tr>\n",
       "  </thead>\n",
       "  <tbody>\n",
       "    <tr>\n",
       "      <td>61634</td>\n",
       "      <td>2</td>\n",
       "      <td>2</td>\n",
       "    </tr>\n",
       "    <tr>\n",
       "      <td>63375</td>\n",
       "      <td>4</td>\n",
       "      <td>4</td>\n",
       "    </tr>\n",
       "    <tr>\n",
       "      <td>76389</td>\n",
       "      <td>4</td>\n",
       "      <td>4</td>\n",
       "    </tr>\n",
       "    <tr>\n",
       "      <td>95719</td>\n",
       "      <td>4</td>\n",
       "      <td>4</td>\n",
       "    </tr>\n",
       "    <tr>\n",
       "      <td>128059</td>\n",
       "      <td>2</td>\n",
       "      <td>2</td>\n",
       "    </tr>\n",
       "    <tr>\n",
       "      <td>...</td>\n",
       "      <td>...</td>\n",
       "      <td>...</td>\n",
       "    </tr>\n",
       "    <tr>\n",
       "      <td>1369821</td>\n",
       "      <td>4</td>\n",
       "      <td>4</td>\n",
       "    </tr>\n",
       "    <tr>\n",
       "      <td>1371026</td>\n",
       "      <td>4</td>\n",
       "      <td>4</td>\n",
       "    </tr>\n",
       "    <tr>\n",
       "      <td>1371920</td>\n",
       "      <td>2</td>\n",
       "      <td>2</td>\n",
       "    </tr>\n",
       "    <tr>\n",
       "      <td>8233704</td>\n",
       "      <td>2</td>\n",
       "      <td>2</td>\n",
       "    </tr>\n",
       "    <tr>\n",
       "      <td>13454352</td>\n",
       "      <td>2</td>\n",
       "      <td>2</td>\n",
       "    </tr>\n",
       "  </tbody>\n",
       "</table>\n",
       "<p>645 rows × 2 columns</p>\n",
       "</div>"
      ],
      "text/plain": [
       "           True value  predicted value\n",
       "id number                             \n",
       "61634               2                2\n",
       "63375               4                4\n",
       "76389               4                4\n",
       "95719               4                4\n",
       "128059              2                2\n",
       "...               ...              ...\n",
       "1369821             4                4\n",
       "1371026             4                4\n",
       "1371920             2                2\n",
       "8233704             2                2\n",
       "13454352            2                2\n",
       "\n",
       "[645 rows x 2 columns]"
      ]
     },
     "execution_count": 99,
     "metadata": {},
     "output_type": "execute_result"
    }
   ],
   "source": [
    "final             #Final data which has both True value (which was given in data set) and predicted value which is predicted by \n",
    "                  #K means clustering algorithm for K=2"
   ]
  },
  {
   "cell_type": "code",
   "execution_count": 100,
   "metadata": {},
   "outputs": [],
   "source": [
    "FN = final[(final['True value']==2) & (final['predicted value']==4)].shape[0]      #This is FN (False Negative)"
   ]
  },
  {
   "cell_type": "code",
   "execution_count": 101,
   "metadata": {},
   "outputs": [],
   "source": [
    "FP = final[(final['True value']==4) & (final['predicted value']==2)].shape[0]    #This is FP (false positive)"
   ]
  },
  {
   "cell_type": "code",
   "execution_count": 102,
   "metadata": {},
   "outputs": [],
   "source": [
    "TN = final[(final['True value']==4) & (final['predicted value']==4)].shape[0]   #this is TN (True negative)"
   ]
  },
  {
   "cell_type": "code",
   "execution_count": 103,
   "metadata": {
    "scrolled": true
   },
   "outputs": [],
   "source": [
    "TP = final[(final['True value']==2) & (final['predicted value']==2)].shape[0]   #this is TP (True positive)"
   ]
  },
  {
   "cell_type": "code",
   "execution_count": 109,
   "metadata": {},
   "outputs": [
    {
     "name": "stdout",
     "output_type": "stream",
     "text": [
      "0.9782082324455206\n"
     ]
    }
   ],
   "source": [
    "Recall = TP/(TP+FN)\n",
    "print(Recall)"
   ]
  },
  {
   "cell_type": "code",
   "execution_count": 113,
   "metadata": {},
   "outputs": [
    {
     "name": "stdout",
     "output_type": "stream",
     "text": [
      "0.9550827423167849\n"
     ]
    }
   ],
   "source": [
    "Precision = TP/(TP+FP)\n",
    "print(Precision)"
   ]
  },
  {
   "cell_type": "code",
   "execution_count": 117,
   "metadata": {},
   "outputs": [
    {
     "name": "stdout",
     "output_type": "stream",
     "text": [
      "0.9665071770334928\n"
     ]
    }
   ],
   "source": [
    "f1_Score = 2*(Recall)*(Precision)/(Precision + Recall)\n",
    "print(f1_Score)"
   ]
  },
  {
   "cell_type": "markdown",
   "metadata": {},
   "source": [
    "From Above I found that for our K means clustering classifier\n",
    "<br> Recall = 97.820% <br>\n",
    "Precision = 95.508% <br>\n",
    "F1 Score = 96.650% <br>"
   ]
  }
 ],
 "metadata": {
  "kernelspec": {
   "display_name": "Python 3",
   "language": "python",
   "name": "python3"
  },
  "language_info": {
   "codemirror_mode": {
    "name": "ipython",
    "version": 3
   },
   "file_extension": ".py",
   "mimetype": "text/x-python",
   "name": "python",
   "nbconvert_exporter": "python",
   "pygments_lexer": "ipython3",
   "version": "3.7.4"
  }
 },
 "nbformat": 4,
 "nbformat_minor": 2
}
